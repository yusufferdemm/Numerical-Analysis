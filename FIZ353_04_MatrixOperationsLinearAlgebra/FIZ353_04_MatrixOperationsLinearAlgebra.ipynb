{
 "cells": [
  {
   "cell_type": "markdown",
   "id": "f08fa201",
   "metadata": {
    "toc": true
   },
   "source": [
    "<h1>Table of Contents<span class=\"tocSkip\"></span></h1>\n",
    "<div class=\"toc\"><ul class=\"toc-item\"><li><ul class=\"toc-item\"><li><span><a href=\"#Basic-Matrix-Operations\" data-toc-modified-id=\"Basic-Matrix-Operations-0.1\">Basic Matrix Operations</a></span></li><li><span><a href=\"#Defining\" data-toc-modified-id=\"Defining-0.2\">Defining</a></span><ul class=\"toc-item\"><li><span><a href=\"#'numpy'-style\" data-toc-modified-id=\"'numpy'-style-0.2.1\">'numpy' style</a></span></li><li><span><a href=\"#Some-special-matrices\" data-toc-modified-id=\"Some-special-matrices-0.2.2\">Some special matrices</a></span><ul class=\"toc-item\"><li><span><a href=\"#Zeros\" data-toc-modified-id=\"Zeros-0.2.2.1\">Zeros</a></span></li><li><span><a href=\"#Ones\" data-toc-modified-id=\"Ones-0.2.2.2\">Ones</a></span></li><li><span><a href=\"#Identity\" data-toc-modified-id=\"Identity-0.2.2.3\">Identity</a></span></li><li><span><a href=\"#Diagonal\" data-toc-modified-id=\"Diagonal-0.2.2.4\">Diagonal</a></span></li><li><span><a href=\"#Off-diagonal\" data-toc-modified-id=\"Off-diagonal-0.2.2.5\">Off-diagonal</a></span></li><li><span><a href=\"#Random-Matrices\" data-toc-modified-id=\"Random-Matrices-0.2.2.6\">Random Matrices</a></span></li></ul></li></ul></li><li><span><a href=\"#Accessing-(getting-and-setting)\" data-toc-modified-id=\"Accessing-(getting-and-setting)-0.3\">Accessing (getting and setting)</a></span></li><li><span><a href=\"#Duplication\" data-toc-modified-id=\"Duplication-0.4\">Duplication</a></span></li><li><span><a href=\"#Filtering-(Essential!)\" data-toc-modified-id=\"Filtering-(Essential!)-0.5\">Filtering (Essential!)</a></span><ul class=\"toc-item\"><li><span><a href=\"#Intersection-of-two-arrays\" data-toc-modified-id=\"Intersection-of-two-arrays-0.5.1\">Intersection of two arrays</a></span></li></ul></li><li><span><a href=\"#Multiplication\" data-toc-modified-id=\"Multiplication-0.6\">Multiplication</a></span></li><li><span><a href=\"#Scalar-x-Matrix\" data-toc-modified-id=\"Scalar-x-Matrix-0.7\">Scalar x Matrix</a></span></li><li><span><a href=\"#Matrix-x-Vector\" data-toc-modified-id=\"Matrix-x-Vector-0.8\">Matrix x Vector</a></span></li><li><span><a href=\"#Determinant-&amp;-Inverse-of-a-Square-Matrix\" data-toc-modified-id=\"Determinant-&amp;-Inverse-of-a-Square-Matrix-0.9\">Determinant &amp; Inverse of a Square Matrix</a></span></li><li><span><a href=\"#Matrices-as-Operators\" data-toc-modified-id=\"Matrices-as-Operators-0.10\">Matrices as Operators</a></span></li><li><span><a href=\"#Changing-a-vector's-magnitude-(Scaling)\" data-toc-modified-id=\"Changing-a-vector's-magnitude-(Scaling)-0.11\">Changing a vector's magnitude (Scaling)</a></span></li><li><span><a href=\"#Rotating-a-vector\" data-toc-modified-id=\"Rotating-a-vector-0.12\">Rotating a vector</a></span></li><li><span><a href=\"#Transformation-Matrix-(Scaling-&amp;-Rotation)\" data-toc-modified-id=\"Transformation-Matrix-(Scaling-&amp;-Rotation)-0.13\">Transformation Matrix (Scaling &amp; Rotation)</a></span></li></ul></li><li><span><a href=\"#A-practical-application\" data-toc-modified-id=\"A-practical-application-1\">A practical application</a></span><ul class=\"toc-item\"><li><span><a href=\"#Definitions\" data-toc-modified-id=\"Definitions-1.1\">Definitions</a></span><ul class=\"toc-item\"><li><span><a href=\"#Sidenote:-Calculating-$n$-&amp;-$\\theta$-from-the-combined-transformation-matrix*\" data-toc-modified-id=\"Sidenote:-Calculating-$n$-&amp;-$\\theta$-from-the-combined-transformation-matrix*-1.1.1\">Sidenote: Calculating $n$ &amp; $\\theta$ from the combined transformation matrix*</a></span></li></ul></li><li><span><a href=\"#Application\" data-toc-modified-id=\"Application-1.2\">Application</a></span></li></ul></li></ul></div>"
   ]
  },
  {
   "cell_type": "markdown",
   "id": "99755cf6",
   "metadata": {},
   "source": [
    "## Basic Matrix Operations"
   ]
  },
  {
   "cell_type": "code",
   "execution_count": 3,
   "id": "7f90fa5e",
   "metadata": {},
   "outputs": [],
   "source": [
    "import numpy as np\n",
    "np.random.seed(353) # we are fixing the random seed, \n",
    "                    # so you'll get the same \"random\" numbers\n",
    "                    # as of this lecture note's"
   ]
  },
  {
   "cell_type": "markdown",
   "id": "7f45fe96",
   "metadata": {},
   "source": [
    "## Defining\n",
    "### 'numpy' style"
   ]
  },
  {
   "cell_type": "code",
   "execution_count": 4,
   "id": "5c87b11e",
   "metadata": {},
   "outputs": [
    {
     "data": {
      "text/plain": [
       "array([[1, 2, 3],\n",
       "       [4, 5, 6],\n",
       "       [7, 8, 9]])"
      ]
     },
     "execution_count": 4,
     "metadata": {},
     "output_type": "execute_result"
    }
   ],
   "source": [
    "M = np.array([[1,2,3],[4,5,6],[7,8,9]])\n",
    "M"
   ]
  },
  {
   "cell_type": "markdown",
   "id": "032e70d1",
   "metadata": {},
   "source": [
    "### Some special matrices"
   ]
  },
  {
   "cell_type": "markdown",
   "id": "d98ff77e",
   "metadata": {},
   "source": [
    "#### Zeros\n"
   ]
  },
  {
   "cell_type": "code",
   "execution_count": 5,
   "id": "80f85cee",
   "metadata": {},
   "outputs": [
    {
     "data": {
      "text/plain": [
       "array([[0., 0., 0., 0.],\n",
       "       [0., 0., 0., 0.],\n",
       "       [0., 0., 0., 0.]])"
      ]
     },
     "execution_count": 5,
     "metadata": {},
     "output_type": "execute_result"
    }
   ],
   "source": [
    "O = np.zeros((3,4))\n",
    "O"
   ]
  },
  {
   "cell_type": "markdown",
   "id": "c672b2d6",
   "metadata": {},
   "source": [
    "#### Ones"
   ]
  },
  {
   "cell_type": "code",
   "execution_count": 6,
   "id": "8743b312",
   "metadata": {},
   "outputs": [
    {
     "data": {
      "text/plain": [
       "array([[3.2, 3.2, 3.2, 3.2],\n",
       "       [3.2, 3.2, 3.2, 3.2],\n",
       "       [3.2, 3.2, 3.2, 3.2]])"
      ]
     },
     "execution_count": 6,
     "metadata": {},
     "output_type": "execute_result"
    }
   ],
   "source": [
    "L = np.ones((3,4)) * 3.2\n",
    "L"
   ]
  },
  {
   "cell_type": "markdown",
   "id": "03df1624",
   "metadata": {},
   "source": [
    "#### Identity"
   ]
  },
  {
   "cell_type": "code",
   "execution_count": 7,
   "id": "43523f09",
   "metadata": {},
   "outputs": [
    {
     "data": {
      "text/plain": [
       "array([[1., 0., 0., 0.],\n",
       "       [0., 1., 0., 0.],\n",
       "       [0., 0., 1., 0.]])"
      ]
     },
     "execution_count": 7,
     "metadata": {},
     "output_type": "execute_result"
    }
   ],
   "source": [
    "I = np.eye(3,4)\n",
    "I"
   ]
  },
  {
   "cell_type": "markdown",
   "id": "fdc66661",
   "metadata": {},
   "source": [
    "#### Diagonal"
   ]
  },
  {
   "cell_type": "code",
   "execution_count": 8,
   "id": "b99e3de0",
   "metadata": {},
   "outputs": [
    {
     "data": {
      "text/plain": [
       "array([[5, 0, 0, 0],\n",
       "       [0, 3, 0, 0],\n",
       "       [0, 0, 7, 0],\n",
       "       [0, 0, 0, 2]])"
      ]
     },
     "execution_count": 8,
     "metadata": {},
     "output_type": "execute_result"
    }
   ],
   "source": [
    "D = np.diag((5,3,7,2))\n",
    "D"
   ]
  },
  {
   "cell_type": "markdown",
   "id": "8944d5d0",
   "metadata": {},
   "source": [
    "#### Off-diagonal"
   ]
  },
  {
   "cell_type": "code",
   "execution_count": 9,
   "id": "1c3f7b69",
   "metadata": {},
   "outputs": [
    {
     "data": {
      "text/plain": [
       "array([[0, 5, 0, 0, 0],\n",
       "       [0, 0, 3, 0, 0],\n",
       "       [0, 0, 0, 7, 0],\n",
       "       [0, 0, 0, 0, 2],\n",
       "       [0, 0, 0, 0, 0]])"
      ]
     },
     "execution_count": 9,
     "metadata": {},
     "output_type": "execute_result"
    }
   ],
   "source": [
    "# Upper\n",
    "DU = np.diag((5,3,7,2),1)\n",
    "DU"
   ]
  },
  {
   "cell_type": "code",
   "execution_count": 10,
   "id": "0790f711",
   "metadata": {},
   "outputs": [
    {
     "data": {
      "text/plain": [
       "array([[0, 0, 0, 0, 0],\n",
       "       [5, 0, 0, 0, 0],\n",
       "       [0, 3, 0, 0, 0],\n",
       "       [0, 0, 7, 0, 0],\n",
       "       [0, 0, 0, 2, 0]])"
      ]
     },
     "execution_count": 10,
     "metadata": {},
     "output_type": "execute_result"
    }
   ],
   "source": [
    "# Lower\n",
    "DL = np.diag((5,3,7,2),-1)\n",
    "DL"
   ]
  },
  {
   "cell_type": "markdown",
   "id": "097ecd53",
   "metadata": {},
   "source": [
    "#### Random Matrices"
   ]
  },
  {
   "cell_type": "code",
   "execution_count": 11,
   "id": "d6d34ddc",
   "metadata": {},
   "outputs": [
    {
     "data": {
      "text/plain": [
       "array([[0.43618003, 0.26300446, 0.81565745, 0.6808622 , 0.74138771],\n",
       "       [0.30520115, 0.08876155, 0.7506812 , 0.20489849, 0.26102374],\n",
       "       [0.43189534, 0.22048083, 0.51118854, 0.14658739, 0.14535176],\n",
       "       [0.76389177, 0.2915416 , 0.52110675, 0.17400217, 0.69313813]])"
      ]
     },
     "execution_count": 11,
     "metadata": {},
     "output_type": "execute_result"
    }
   ],
   "source": [
    "# Uniform distribution [0,1)\n",
    "R1 = np.random.random((4,5))\n",
    "R1"
   ]
  },
  {
   "cell_type": "code",
   "execution_count": 12,
   "id": "9c0fa94b",
   "metadata": {},
   "outputs": [
    {
     "data": {
      "text/plain": [
       "array([[9, 6, 9, 6, 9],\n",
       "       [8, 7, 6, 8, 9],\n",
       "       [6, 9, 6, 6, 9],\n",
       "       [8, 8, 7, 9, 9]])"
      ]
     },
     "execution_count": 12,
     "metadata": {},
     "output_type": "execute_result"
    }
   ],
   "source": [
    "# Uniform distribution, integers [a,b)\n",
    "R2 = np.random.randint(6,10,(4,5))\n",
    "R2"
   ]
  },
  {
   "cell_type": "markdown",
   "id": "2768c485",
   "metadata": {},
   "source": [
    "## Accessing (getting and setting)"
   ]
  },
  {
   "cell_type": "code",
   "execution_count": 13,
   "id": "583ce2fb",
   "metadata": {},
   "outputs": [
    {
     "data": {
      "text/plain": [
       "array([[1, 2, 3],\n",
       "       [4, 5, 6],\n",
       "       [7, 8, 9]])"
      ]
     },
     "execution_count": 13,
     "metadata": {},
     "output_type": "execute_result"
    }
   ],
   "source": [
    "M = np.array([[1,2,3],[4,5,6],[7,8,9]])\n",
    "M"
   ]
  },
  {
   "cell_type": "code",
   "execution_count": 14,
   "id": "351d2fa0",
   "metadata": {},
   "outputs": [
    {
     "data": {
      "text/plain": [
       "9"
      ]
     },
     "execution_count": 14,
     "metadata": {},
     "output_type": "execute_result"
    }
   ],
   "source": [
    "M[2,2]"
   ]
  },
  {
   "cell_type": "code",
   "execution_count": 15,
   "id": "7ec97645",
   "metadata": {},
   "outputs": [
    {
     "data": {
      "text/plain": [
       "array([7, 8, 9])"
      ]
     },
     "execution_count": 15,
     "metadata": {},
     "output_type": "execute_result"
    }
   ],
   "source": [
    "M[2,:]"
   ]
  },
  {
   "cell_type": "code",
   "execution_count": 16,
   "id": "ba3d2f8a",
   "metadata": {},
   "outputs": [
    {
     "data": {
      "text/plain": [
       "array([[1, 3],\n",
       "       [4, 6],\n",
       "       [7, 9]])"
      ]
     },
     "execution_count": 16,
     "metadata": {},
     "output_type": "execute_result"
    }
   ],
   "source": [
    "M[:,[0,2]]"
   ]
  },
  {
   "cell_type": "code",
   "execution_count": 17,
   "id": "254818eb",
   "metadata": {},
   "outputs": [
    {
     "data": {
      "text/plain": [
       "array([[ 1, -1,  3],\n",
       "       [ 4, -1,  6],\n",
       "       [ 7, -1,  9]])"
      ]
     },
     "execution_count": 17,
     "metadata": {},
     "output_type": "execute_result"
    }
   ],
   "source": [
    "M[:,1] = -1\n",
    "M"
   ]
  },
  {
   "cell_type": "markdown",
   "id": "dbb4ee05",
   "metadata": {},
   "source": [
    "## Duplication\n",
    "When copying an array object, be careful that they are not copied over like scalars:"
   ]
  },
  {
   "cell_type": "code",
   "execution_count": 18,
   "id": "11ac3c46",
   "metadata": {},
   "outputs": [
    {
     "data": {
      "text/plain": [
       "array([[1, 2, 3],\n",
       "       [4, 5, 6],\n",
       "       [7, 8, 9]])"
      ]
     },
     "execution_count": 18,
     "metadata": {},
     "output_type": "execute_result"
    }
   ],
   "source": [
    "M = np.array([[1,2,3],[4,5,6],[7,8,9]])\n",
    "M"
   ]
  },
  {
   "cell_type": "code",
   "execution_count": 19,
   "id": "7dc12fcc",
   "metadata": {},
   "outputs": [
    {
     "data": {
      "text/plain": [
       "array([[1, 2, 3],\n",
       "       [4, 5, 6],\n",
       "       [7, 8, 9]])"
      ]
     },
     "execution_count": 19,
     "metadata": {},
     "output_type": "execute_result"
    }
   ],
   "source": [
    "N = M\n",
    "N"
   ]
  },
  {
   "cell_type": "code",
   "execution_count": 20,
   "id": "97705a4d",
   "metadata": {},
   "outputs": [
    {
     "data": {
      "text/plain": [
       "array([[ 1,  2,  3],\n",
       "       [ 4,  5,  6],\n",
       "       [ 7,  8, -9]])"
      ]
     },
     "execution_count": 20,
     "metadata": {},
     "output_type": "execute_result"
    }
   ],
   "source": [
    "M[2,2] = -9\n",
    "M"
   ]
  },
  {
   "cell_type": "code",
   "execution_count": 21,
   "id": "c8fa01d3",
   "metadata": {},
   "outputs": [
    {
     "data": {
      "text/plain": [
       "array([[ 1,  2,  3],\n",
       "       [ 4,  5,  6],\n",
       "       [ 7,  8, -9]])"
      ]
     },
     "execution_count": 21,
     "metadata": {},
     "output_type": "execute_result"
    }
   ],
   "source": [
    "N"
   ]
  },
  {
   "cell_type": "markdown",
   "id": "fbd1f1b6",
   "metadata": {},
   "source": [
    "Instead, use the copy() method:"
   ]
  },
  {
   "cell_type": "code",
   "execution_count": 22,
   "id": "7859afee",
   "metadata": {},
   "outputs": [
    {
     "data": {
      "text/plain": [
       "array([[1, 2, 3],\n",
       "       [4, 5, 6],\n",
       "       [7, 8, 9]])"
      ]
     },
     "execution_count": 22,
     "metadata": {},
     "output_type": "execute_result"
    }
   ],
   "source": [
    "M = np.array([[1,2,3],[4,5,6],[7,8,9]])\n",
    "M"
   ]
  },
  {
   "cell_type": "code",
   "execution_count": 23,
   "id": "c09c5289",
   "metadata": {},
   "outputs": [
    {
     "data": {
      "text/plain": [
       "array([[1, 2, 3],\n",
       "       [4, 5, 6],\n",
       "       [7, 8, 9]])"
      ]
     },
     "execution_count": 23,
     "metadata": {},
     "output_type": "execute_result"
    }
   ],
   "source": [
    "N = M.copy()\n",
    "N"
   ]
  },
  {
   "cell_type": "code",
   "execution_count": 24,
   "id": "12dc70d2",
   "metadata": {},
   "outputs": [
    {
     "data": {
      "text/plain": [
       "array([[ 1,  2,  3],\n",
       "       [ 4,  5,  6],\n",
       "       [ 7,  8, -9]])"
      ]
     },
     "execution_count": 24,
     "metadata": {},
     "output_type": "execute_result"
    }
   ],
   "source": [
    "M[2,2] = -9\n",
    "M"
   ]
  },
  {
   "cell_type": "code",
   "execution_count": 25,
   "id": "7b43bc4b",
   "metadata": {},
   "outputs": [
    {
     "data": {
      "text/plain": [
       "array([[1, 2, 3],\n",
       "       [4, 5, 6],\n",
       "       [7, 8, 9]])"
      ]
     },
     "execution_count": 25,
     "metadata": {},
     "output_type": "execute_result"
    }
   ],
   "source": [
    "N"
   ]
  },
  {
   "cell_type": "markdown",
   "id": "a4018956",
   "metadata": {},
   "source": [
    "## Filtering (Essential!)"
   ]
  },
  {
   "cell_type": "code",
   "execution_count": 26,
   "id": "7d5c3bab",
   "metadata": {},
   "outputs": [
    {
     "data": {
      "text/plain": [
       "array([[ 1,  2,  3],\n",
       "       [ 4,  5,  6],\n",
       "       [ 7,  8, -9]])"
      ]
     },
     "execution_count": 26,
     "metadata": {},
     "output_type": "execute_result"
    }
   ],
   "source": [
    "M"
   ]
  },
  {
   "cell_type": "code",
   "execution_count": 27,
   "id": "107ee49c",
   "metadata": {},
   "outputs": [
    {
     "data": {
      "text/plain": [
       "array([[False, False, False],\n",
       "       [False, False,  True],\n",
       "       [ True,  True, False]])"
      ]
     },
     "execution_count": 27,
     "metadata": {},
     "output_type": "execute_result"
    }
   ],
   "source": [
    "M>5"
   ]
  },
  {
   "cell_type": "code",
   "execution_count": 28,
   "id": "16161ed0",
   "metadata": {},
   "outputs": [
    {
     "data": {
      "text/plain": [
       "array([6, 7, 8])"
      ]
     },
     "execution_count": 28,
     "metadata": {},
     "output_type": "execute_result"
    }
   ],
   "source": [
    "# The elements that are greater than 5:\n",
    "M[M > 5]"
   ]
  },
  {
   "cell_type": "code",
   "execution_count": 29,
   "id": "eb666706",
   "metadata": {},
   "outputs": [
    {
     "data": {
      "text/plain": [
       "array([2, 4, 6, 8])"
      ]
     },
     "execution_count": 29,
     "metadata": {},
     "output_type": "execute_result"
    }
   ],
   "source": [
    "# The elements that are even:\n",
    "M[M % 2 == 0]"
   ]
  },
  {
   "cell_type": "code",
   "execution_count": 30,
   "id": "12e5703c",
   "metadata": {},
   "outputs": [
    {
     "data": {
      "text/plain": [
       "array([[False, False,  True],\n",
       "       [ True,  True,  True],\n",
       "       [ True,  True, False]])"
      ]
     },
     "execution_count": 30,
     "metadata": {},
     "output_type": "execute_result"
    }
   ],
   "source": [
    "np.logical_and(M>=3, M<=8)"
   ]
  },
  {
   "cell_type": "code",
   "execution_count": 31,
   "id": "f67e545a",
   "metadata": {},
   "outputs": [
    {
     "data": {
      "text/plain": [
       "array([3, 4, 5, 6, 7, 8])"
      ]
     },
     "execution_count": 31,
     "metadata": {},
     "output_type": "execute_result"
    }
   ],
   "source": [
    "# The elements that are between 3 and 8 (inclusive):\n",
    "M[np.logical_and(M>=3, M<=8)]"
   ]
  },
  {
   "cell_type": "code",
   "execution_count": 32,
   "id": "ab97b2e7",
   "metadata": {},
   "outputs": [
    {
     "data": {
      "text/plain": [
       "array([ 1,  2,  3,  7,  8, -9])"
      ]
     },
     "execution_count": 32,
     "metadata": {},
     "output_type": "execute_result"
    }
   ],
   "source": [
    "# The elements that are smaller than 3 or greater than 7 (inclusive)\n",
    "M[np.logical_or(M<=3, M>=7)]"
   ]
  },
  {
   "cell_type": "markdown",
   "id": "13455725",
   "metadata": {},
   "source": [
    "### Intersection of two arrays"
   ]
  },
  {
   "cell_type": "code",
   "execution_count": 33,
   "id": "a176f21c",
   "metadata": {},
   "outputs": [
    {
     "data": {
      "text/plain": [
       "array([[ 6,  2, -2],\n",
       "       [ 1,  5,  1],\n",
       "       [ 2, -2,  3]])"
      ]
     },
     "execution_count": 33,
     "metadata": {},
     "output_type": "execute_result"
    }
   ],
   "source": [
    "# Intersection of two arrays:\n",
    "N = np.random.randint(-5,10,(3,3))\n",
    "N"
   ]
  },
  {
   "cell_type": "code",
   "execution_count": 34,
   "id": "0a6b574e",
   "metadata": {},
   "outputs": [
    {
     "data": {
      "text/plain": [
       "array([1, 2, 3, 5, 6])"
      ]
     },
     "execution_count": 34,
     "metadata": {},
     "output_type": "execute_result"
    }
   ],
   "source": [
    "np.intersect1d(M,N)"
   ]
  },
  {
   "cell_type": "markdown",
   "id": "6a1c1c1e",
   "metadata": {},
   "source": [
    "## Multiplication"
   ]
  },
  {
   "cell_type": "code",
   "execution_count": 35,
   "id": "15e3f56b",
   "metadata": {
    "scrolled": true
   },
   "outputs": [
    {
     "data": {
      "text/plain": [
       "array([[ 1,  2,  3],\n",
       "       [ 4,  5,  6],\n",
       "       [ 7,  8, -9]])"
      ]
     },
     "execution_count": 35,
     "metadata": {},
     "output_type": "execute_result"
    }
   ],
   "source": [
    "M"
   ]
  },
  {
   "cell_type": "markdown",
   "id": "0b9e14e2",
   "metadata": {},
   "source": [
    "## Scalar x Matrix"
   ]
  },
  {
   "cell_type": "code",
   "execution_count": 36,
   "id": "2e085d92",
   "metadata": {},
   "outputs": [
    {
     "data": {
      "text/plain": [
       "array([[  5.21,  10.42,  15.63],\n",
       "       [ 20.84,  26.05,  31.26],\n",
       "       [ 36.47,  41.68, -46.89]])"
      ]
     },
     "execution_count": 36,
     "metadata": {},
     "output_type": "execute_result"
    }
   ],
   "source": [
    "5.21 * M"
   ]
  },
  {
   "cell_type": "markdown",
   "id": "51fdbba2",
   "metadata": {},
   "source": [
    "## Matrix x Vector"
   ]
  },
  {
   "cell_type": "code",
   "execution_count": 37,
   "id": "29a24352",
   "metadata": {},
   "outputs": [
    {
     "data": {
      "text/plain": [
       "array([[9],\n",
       "       [8],\n",
       "       [7]])"
      ]
     },
     "execution_count": 37,
     "metadata": {},
     "output_type": "execute_result"
    }
   ],
   "source": [
    "v = np.array([[9],[8],[7]])\n",
    "v"
   ]
  },
  {
   "cell_type": "code",
   "execution_count": 38,
   "id": "5d527b15",
   "metadata": {},
   "outputs": [
    {
     "data": {
      "text/plain": [
       "array([[ 46],\n",
       "       [118],\n",
       "       [ 64]])"
      ]
     },
     "execution_count": 38,
     "metadata": {},
     "output_type": "execute_result"
    }
   ],
   "source": [
    "np.dot(M,v)"
   ]
  },
  {
   "cell_type": "code",
   "execution_count": 39,
   "id": "885347d4",
   "metadata": {},
   "outputs": [
    {
     "data": {
      "text/plain": [
       "array([[9, 8, 7]])"
      ]
     },
     "execution_count": 39,
     "metadata": {},
     "output_type": "execute_result"
    }
   ],
   "source": [
    "v.T # 'T' for \"transpose\""
   ]
  },
  {
   "cell_type": "code",
   "execution_count": 40,
   "id": "04c03e4e",
   "metadata": {},
   "outputs": [
    {
     "data": {
      "text/plain": [
       "array([[ 90, 114,  12]])"
      ]
     },
     "execution_count": 40,
     "metadata": {},
     "output_type": "execute_result"
    }
   ],
   "source": [
    "np.dot(v.T,M)"
   ]
  },
  {
   "cell_type": "markdown",
   "id": "57a74447",
   "metadata": {},
   "source": [
    "__Be very careful!__\n",
    "\n",
    "> np.dot(M,v)' __is not equal to__ M*v and,   \n",
    "\n",
    "> np.dot(v.T,M) __is not equal to__ v.T*M  \n",
    "\n",
    "Multiplying\n",
    "- (3x3) matrix with a (3x1) matrix should yield a (3x1) matrix and,\n",
    "- (1x3) vector with a (3x3) matrix should yield a (1x3) vector!\n",
    "\n",
    "Compare the following results with the above ones!"
   ]
  },
  {
   "cell_type": "code",
   "execution_count": 41,
   "id": "49f975ce",
   "metadata": {},
   "outputs": [
    {
     "data": {
      "text/plain": [
       "array([[ 1,  2,  3],\n",
       "       [ 4,  5,  6],\n",
       "       [ 7,  8, -9]])"
      ]
     },
     "execution_count": 41,
     "metadata": {},
     "output_type": "execute_result"
    }
   ],
   "source": [
    "M"
   ]
  },
  {
   "cell_type": "code",
   "execution_count": 42,
   "id": "459e4624",
   "metadata": {},
   "outputs": [
    {
     "data": {
      "text/plain": [
       "array([[9],\n",
       "       [8],\n",
       "       [7]])"
      ]
     },
     "execution_count": 42,
     "metadata": {},
     "output_type": "execute_result"
    }
   ],
   "source": [
    "v"
   ]
  },
  {
   "cell_type": "code",
   "execution_count": 43,
   "id": "f990a658",
   "metadata": {},
   "outputs": [
    {
     "data": {
      "text/plain": [
       "array([[  9,  18,  27],\n",
       "       [ 32,  40,  48],\n",
       "       [ 49,  56, -63]])"
      ]
     },
     "execution_count": 43,
     "metadata": {},
     "output_type": "execute_result"
    }
   ],
   "source": [
    "M*v"
   ]
  },
  {
   "cell_type": "code",
   "execution_count": 44,
   "id": "b58e401a",
   "metadata": {},
   "outputs": [
    {
     "data": {
      "text/plain": [
       "array([[9, 8, 7]])"
      ]
     },
     "execution_count": 44,
     "metadata": {},
     "output_type": "execute_result"
    }
   ],
   "source": [
    "v.T"
   ]
  },
  {
   "cell_type": "code",
   "execution_count": 45,
   "id": "0e94d6c7",
   "metadata": {},
   "outputs": [
    {
     "data": {
      "text/plain": [
       "array([[  9,  16,  21],\n",
       "       [ 36,  40,  42],\n",
       "       [ 63,  64, -63]])"
      ]
     },
     "execution_count": 45,
     "metadata": {},
     "output_type": "execute_result"
    }
   ],
   "source": [
    "v.T*M"
   ]
  },
  {
   "cell_type": "markdown",
   "id": "c0868ca6",
   "metadata": {},
   "source": [
    "## Determinant & Inverse of a Square Matrix "
   ]
  },
  {
   "cell_type": "code",
   "execution_count": 46,
   "id": "639834ba",
   "metadata": {},
   "outputs": [
    {
     "data": {
      "text/plain": [
       "array([[2, 1, 3],\n",
       "       [4, 6, 3],\n",
       "       [7, 8, 9]])"
      ]
     },
     "execution_count": 46,
     "metadata": {},
     "output_type": "execute_result"
    }
   ],
   "source": [
    "M = np.array([[2,1,3],[4,6,3],[7,8,9]])\n",
    "M"
   ]
  },
  {
   "cell_type": "markdown",
   "id": "b7432dd9",
   "metadata": {},
   "source": [
    "- __Determinant__"
   ]
  },
  {
   "cell_type": "code",
   "execution_count": 47,
   "id": "b5f97985",
   "metadata": {},
   "outputs": [
    {
     "name": "stdout",
     "output_type": "stream",
     "text": [
      "Determinant of M is: 15.000\n"
     ]
    }
   ],
   "source": [
    "M_det = np.linalg.det(M)\n",
    "print(\"Determinant of M is: {:.3f}\".format(M_det))"
   ]
  },
  {
   "cell_type": "markdown",
   "id": "8bb00b9e",
   "metadata": {},
   "source": [
    "- __Inverse__"
   ]
  },
  {
   "cell_type": "code",
   "execution_count": 48,
   "id": "97f78c40",
   "metadata": {},
   "outputs": [
    {
     "data": {
      "text/plain": [
       "array([[ 2.        ,  1.        , -1.        ],\n",
       "       [-1.        , -0.2       ,  0.4       ],\n",
       "       [-0.66666667, -0.6       ,  0.53333333]])"
      ]
     },
     "execution_count": 48,
     "metadata": {},
     "output_type": "execute_result"
    }
   ],
   "source": [
    "M_inv = np.linalg.inv(M)\n",
    "M_inv"
   ]
  },
  {
   "cell_type": "code",
   "execution_count": 49,
   "id": "beab10ba",
   "metadata": {},
   "outputs": [
    {
     "data": {
      "text/plain": [
       "array([[ 1.00000000e+00,  1.11022302e-16, -1.11022302e-16],\n",
       "       [ 8.88178420e-16,  1.00000000e+00, -1.11022302e-16],\n",
       "       [ 4.44089210e-16,  1.11022302e-16,  1.00000000e+00]])"
      ]
     },
     "execution_count": 49,
     "metadata": {},
     "output_type": "execute_result"
    }
   ],
   "source": [
    "np.dot(M,M_inv)"
   ]
  },
  {
   "cell_type": "code",
   "execution_count": 50,
   "id": "8c3b7981",
   "metadata": {},
   "outputs": [
    {
     "data": {
      "text/plain": [
       "array([[ 1.00000000e+00,  0.00000000e+00, -8.88178420e-16],\n",
       "       [ 0.00000000e+00,  1.00000000e+00,  4.44089210e-16],\n",
       "       [-1.11022302e-16,  0.00000000e+00,  1.00000000e+00]])"
      ]
     },
     "execution_count": 50,
     "metadata": {},
     "output_type": "execute_result"
    }
   ],
   "source": [
    "np.dot(M_inv,M)"
   ]
  },
  {
   "cell_type": "markdown",
   "id": "d513f62d",
   "metadata": {},
   "source": [
    "## Matrices as Operators"
   ]
  },
  {
   "cell_type": "markdown",
   "id": "3be3b6e0",
   "metadata": {},
   "source": [
    "Consider a (3x1) vector (let's think it as a position vector. It can be multiplied from left by a (3x3) matrix, and the result will be a (3x1) vector. We can interpret this operation as a transformation operation on the vector. As, by definition, a vector has a magnitude and a direction, a transformation can change these two properties. First, let's investigate these effects seperately by operating on a 2-dimensional vector, and then we'll combine them."
   ]
  },
  {
   "cell_type": "markdown",
   "id": "662d3e6e",
   "metadata": {},
   "source": [
    "## Changing a vector's magnitude (Scaling)\n",
    "This is very straightforward as we can change a vector's magnitude by simply multiplying it with a scalar.\n",
    "\n",
    "> 𝑣⃗=3ı̂+4ȷ̂\n"
   ]
  },
  {
   "cell_type": "code",
   "execution_count": 51,
   "id": "7c5401f9",
   "metadata": {},
   "outputs": [
    {
     "data": {
      "text/plain": [
       "array([3, 4])"
      ]
     },
     "execution_count": 51,
     "metadata": {},
     "output_type": "execute_result"
    }
   ],
   "source": [
    "v = np.array([3,4]) # a 2 dimensional vector\n",
    "v"
   ]
  },
  {
   "cell_type": "code",
   "execution_count": 52,
   "id": "4951f57e",
   "metadata": {},
   "outputs": [
    {
     "name": "stdout",
     "output_type": "stream",
     "text": [
      "The magnitude of vector v: 5.0\n"
     ]
    }
   ],
   "source": [
    "# It's magnitude:\n",
    "v_mag = np.linalg.norm(v)\n",
    "print(\"The magnitude of vector v: {:}\".format(v_mag))"
   ]
  },
  {
   "cell_type": "code",
   "execution_count": 53,
   "id": "0df0b010",
   "metadata": {},
   "outputs": [
    {
     "name": "stdout",
     "output_type": "stream",
     "text": [
      "The magnitude of vector v: 5.0\n"
     ]
    }
   ],
   "source": [
    "# We could as well have calculated it via Pythagorean Theorem:\n",
    "v_mag = (v[0]**2 + v[1]**2)**0.5\n",
    "print(\"The magnitude of vector v: {:}\".format(v_mag))"
   ]
  },
  {
   "cell_type": "code",
   "execution_count": 54,
   "id": "b6afe89d",
   "metadata": {},
   "outputs": [
    {
     "name": "stdout",
     "output_type": "stream",
     "text": [
      "The magnitude of vector v: 5.0\n"
     ]
    }
   ],
   "source": [
    "# or, more practically then the above \n",
    "# (for which, we have to enter each dimension exclusively)\n",
    "# we could (and should) go for direct evaluation:\n",
    "v_mag = (np.sum(v*v))**0.5\n",
    "print(\"The magnitude of vector v: {:}\".format(v_mag))"
   ]
  },
  {
   "cell_type": "markdown",
   "id": "2244e553",
   "metadata": {},
   "source": [
    "Now that we know our vector's initial magnitude, let's multiply it by a scalar, s = 2 and check the resultant vector  𝑟⃗'s magnitude:"
   ]
  },
  {
   "cell_type": "code",
   "execution_count": 55,
   "id": "c276089a",
   "metadata": {},
   "outputs": [
    {
     "data": {
      "text/plain": [
       "array([6, 8])"
      ]
     },
     "execution_count": 55,
     "metadata": {},
     "output_type": "execute_result"
    }
   ],
   "source": [
    "s=2\n",
    "r=2*v\n",
    "r"
   ]
  },
  {
   "cell_type": "code",
   "execution_count": 56,
   "id": "d99f1729",
   "metadata": {},
   "outputs": [
    {
     "name": "stdout",
     "output_type": "stream",
     "text": [
      "magnitude of vector r: 10.0\n"
     ]
    }
   ],
   "source": [
    "print(\"magnitude of vector r: {}\".format(np.linalg.norm(r)))"
   ]
  },
  {
   "cell_type": "markdown",
   "id": "997bea6c",
   "metadata": {},
   "source": [
    "How can we write this size change operation as a multiplication of a matrix by the vector? It will sound dumb, but we can insert the identity matrix in the middle, as it doesn't change a vector it is being multiplied to, so nothing should change:\n",
    "\n",
    "$$ s\\cdot\\vec{v} = \\underbrace{s\\cdot(\\mathbb{1})}_{S}\\cdot\\vec{v}$$\n",
    "From here, we can apply the scalar to the identity vector, which will be equal to a diagonal vector with the diagonal values being equal to $s$:"
   ]
  },
  {
   "cell_type": "code",
   "execution_count": 57,
   "id": "f7d03f9b",
   "metadata": {},
   "outputs": [
    {
     "name": "stdout",
     "output_type": "stream",
     "text": [
      "[[1. 0.]\n",
      " [0. 1.]]\n"
     ]
    }
   ],
   "source": [
    "I = np.eye(2,2) # as our vector is 2 dimensional,\n",
    "                # corresponding identity vector is (2x2)\n",
    "print(I)"
   ]
  },
  {
   "cell_type": "code",
   "execution_count": 58,
   "id": "873af480",
   "metadata": {
    "scrolled": false
   },
   "outputs": [
    {
     "data": {
      "text/plain": [
       "array([[2., 0.],\n",
       "       [0., 2.]])"
      ]
     },
     "execution_count": 58,
     "metadata": {},
     "output_type": "execute_result"
    }
   ],
   "source": [
    "S = s*I\n",
    "S"
   ]
  },
  {
   "cell_type": "markdown",
   "id": "f357a58d",
   "metadata": {},
   "source": [
    "The multiplication has now taken the form of a matrix multiplied by a vector:\n",
    "\n",
    "$$\\underbrace{\\begin{bmatrix}2 & 0 \\\\ 0 & 2\\end{bmatrix}}_{S}\\cdot\\underbrace{\\begin{bmatrix}3 \\\\ 4\\end{bmatrix}}_{\\vec{v}}$$"
   ]
  },
  {
   "cell_type": "code",
   "execution_count": 59,
   "id": "393cff78",
   "metadata": {},
   "outputs": [
    {
     "name": "stdout",
     "output_type": "stream",
     "text": [
      "[6. 8.]\n"
     ]
    }
   ],
   "source": [
    "r = np.dot(S,v)\n",
    "print(r)"
   ]
  },
  {
   "cell_type": "code",
   "execution_count": 60,
   "id": "b359f10a",
   "metadata": {},
   "outputs": [
    {
     "name": "stdout",
     "output_type": "stream",
     "text": [
      "The magnitude of vector r: 10.0\n"
     ]
    }
   ],
   "source": [
    "print(\"The magnitude of vector r: {:}\".format(np.linalg.norm(r)))"
   ]
  },
  {
   "cell_type": "code",
   "execution_count": 61,
   "id": "ea9ac070",
   "metadata": {
    "scrolled": true
   },
   "outputs": [
    {
     "data": {
      "text/plain": [
       "13.0"
      ]
     },
     "execution_count": 61,
     "metadata": {},
     "output_type": "execute_result"
    }
   ],
   "source": [
    "# Let's try again\n",
    "h=np.array([5,12])\n",
    "h_mag = np.linalg.norm(h)\n",
    "h_mag"
   ]
  },
  {
   "cell_type": "code",
   "execution_count": 62,
   "id": "c1e25c2f",
   "metadata": {},
   "outputs": [
    {
     "data": {
      "text/plain": [
       "26.0"
      ]
     },
     "execution_count": 62,
     "metadata": {},
     "output_type": "execute_result"
    }
   ],
   "source": [
    "j=h*2\n",
    "np.linalg.norm(j)"
   ]
  },
  {
   "cell_type": "markdown",
   "id": "f45c5727",
   "metadata": {},
   "source": [
    "So, in summary, if we change the size of a vector, we just multiply it with a diagonal matrix, whose diagonal elements' values are equal to the ratio of the change of size."
   ]
  },
  {
   "cell_type": "markdown",
   "id": "f6e25b56",
   "metadata": {},
   "source": [
    "## Rotating a vector\n",
    "The rotation operator R for a 2D vector is defined as:\n",
    "\n",
    "$$ R_{\\theta} = \\begin{pmatrix}\\cos\\theta & -\\sin\\theta \\\\ \\sin\\theta & \\cos\\theta\\end{pmatrix}$$\n",
    "\n",
    "where $\\theta$ is the rotation angle, counter-clockwise.\n",
    "\n",
    "So, if we would rotate a $\\vec{v}$ vector of, let's say, 5 units long along the positive x-direction by an angle of $90^o$, we would get a vector with the same magnitude, pointing alont the positive y-direction: \n",
    "\n",
    "$$R_{90^o}.\\vec{v} = R_{90^o}.(5\\hat{\\imath}) = 5\\hat{\\jmath}$$\n",
    "\n",
    "Let's put this in action:"
   ]
  },
  {
   "cell_type": "code",
   "execution_count": 63,
   "id": "3ad8fd92",
   "metadata": {
    "code_folding": []
   },
   "outputs": [
    {
     "data": {
      "text/plain": [
       "array([[ 6.123234e-17, -1.000000e+00],\n",
       "       [ 1.000000e+00,  6.123234e-17]])"
      ]
     },
     "execution_count": 63,
     "metadata": {},
     "output_type": "execute_result"
    }
   ],
   "source": [
    "theta = np.deg2rad(90)\n",
    "R_theta = np.array([[np.cos(theta), -np.sin(theta)],\n",
    "                    [np.sin(theta),  np.cos(theta)]])\n",
    "R_theta"
   ]
  },
  {
   "cell_type": "code",
   "execution_count": 64,
   "id": "c4612722",
   "metadata": {},
   "outputs": [
    {
     "data": {
      "text/plain": [
       "array([[5],\n",
       "       [0]])"
      ]
     },
     "execution_count": 64,
     "metadata": {},
     "output_type": "execute_result"
    }
   ],
   "source": [
    "v = np.array([[5],[0]])\n",
    "v"
   ]
  },
  {
   "cell_type": "code",
   "execution_count": 65,
   "id": "336f7043",
   "metadata": {},
   "outputs": [
    {
     "data": {
      "text/plain": [
       "array([[3.061617e-16],\n",
       "       [5.000000e+00]])"
      ]
     },
     "execution_count": 65,
     "metadata": {},
     "output_type": "execute_result"
    }
   ],
   "source": [
    "v_rotated_90 = np.dot(R_theta,v)\n",
    "v_rotated_90"
   ]
  },
  {
   "cell_type": "code",
   "execution_count": 66,
   "id": "08e508a8",
   "metadata": {},
   "outputs": [
    {
     "data": {
      "text/plain": [
       "array([[-5.000000e+00],\n",
       "       [ 6.123234e-16]])"
      ]
     },
     "execution_count": 66,
     "metadata": {},
     "output_type": "execute_result"
    }
   ],
   "source": [
    "# Let's rotate this resultant vector once again by 90 degrees:\n",
    "v_rotated_90_90 = np.dot(R_theta,v_rotated_90)\n",
    "v_rotated_90_90"
   ]
  },
  {
   "cell_type": "markdown",
   "id": "ecc12fa5",
   "metadata": {},
   "source": [
    "We can write the last operation explicitly as:\n",
    "\n",
    "$$R_{90^o}.\\vec{v}' =R_{90^o}.\\left(R_{90^o}\\vec{v}\\right)$$\n",
    "\n",
    "changing the order of multiplication:\n",
    "\n",
    "$$R_{90^o}.\\vec{v}' =\\left(R_{90^o}.R_{90^o}\\right)\\vec{v} = R_{90^o}^2.\\vec{v}$$"
   ]
  },
  {
   "cell_type": "code",
   "execution_count": 67,
   "id": "8e417c3a",
   "metadata": {},
   "outputs": [
    {
     "data": {
      "text/plain": [
       "array([[-1.0000000e+00, -1.2246468e-16],\n",
       "       [ 1.2246468e-16, -1.0000000e+00]])"
      ]
     },
     "execution_count": 67,
     "metadata": {},
     "output_type": "execute_result"
    }
   ],
   "source": [
    "R_90_squared = np.dot(R_theta,R_theta)\n",
    "R_90_squared"
   ]
  },
  {
   "cell_type": "code",
   "execution_count": 68,
   "id": "8b6bd9b8",
   "metadata": {},
   "outputs": [
    {
     "data": {
      "text/plain": [
       "array([[-5.000000e+00],\n",
       "       [ 6.123234e-16]])"
      ]
     },
     "execution_count": 68,
     "metadata": {},
     "output_type": "execute_result"
    }
   ],
   "source": [
    "v_rotated_90_90 = np.dot(R_90_squared,v)\n",
    "v_rotated_90_90"
   ]
  },
  {
   "cell_type": "markdown",
   "id": "13f3d45c",
   "metadata": {},
   "source": [
    "## Transformation Matrix (Scaling & Rotation)\n",
    "We can rotate a vector, and then change its magnitude, or, we can change its magnitude and then rotate it -- from physical point of view, the order shouldn't matter. And as it turns out perfectly, even though $A\\cdot B \\ne B\\cdot A$ almost always, for these two rotation & scaling operation matrices, both ordering yields the same result (you can easily prove this for two general (2x2) matrices by hand). So, we can write a general transformation matrix $T$ as a multiplication (combination) of the two:## "
   ]
  },
  {
   "cell_type": "code",
   "execution_count": 69,
   "id": "4d7d579f",
   "metadata": {},
   "outputs": [
    {
     "data": {
      "text/plain": [
       "array([[ 0.8660254, -0.5      ],\n",
       "       [ 0.5      ,  0.8660254]])"
      ]
     },
     "execution_count": 69,
     "metadata": {},
     "output_type": "execute_result"
    }
   ],
   "source": [
    "theta = np.deg2rad(30)\n",
    "R_30 = np.array([[np.cos(theta), -np.sin(theta)],\n",
    "                    [np.sin(theta),  np.cos(theta)]])\n",
    "R_30"
   ]
  },
  {
   "cell_type": "code",
   "execution_count": 70,
   "id": "ec8689b2",
   "metadata": {},
   "outputs": [
    {
     "data": {
      "text/plain": [
       "array([[3., 0.],\n",
       "       [0., 3.]])"
      ]
     },
     "execution_count": 70,
     "metadata": {},
     "output_type": "execute_result"
    }
   ],
   "source": [
    "S_3 = 3*np.eye(2,2)\n",
    "S_3"
   ]
  },
  {
   "cell_type": "code",
   "execution_count": 71,
   "id": "1721ba65",
   "metadata": {},
   "outputs": [
    {
     "data": {
      "text/plain": [
       "array([[ 2.59807621, -1.5       ],\n",
       "       [ 1.5       ,  2.59807621]])"
      ]
     },
     "execution_count": 71,
     "metadata": {},
     "output_type": "execute_result"
    }
   ],
   "source": [
    "T = np.dot(R_30,S_3)\n",
    "T"
   ]
  },
  {
   "cell_type": "code",
   "execution_count": 72,
   "id": "cc974779",
   "metadata": {},
   "outputs": [
    {
     "data": {
      "text/plain": [
       "array([[ 2.59807621, -1.5       ],\n",
       "       [ 1.5       ,  2.59807621]])"
      ]
     },
     "execution_count": 72,
     "metadata": {},
     "output_type": "execute_result"
    }
   ],
   "source": [
    "T = np.dot(S_3,R_30)\n",
    "T"
   ]
  },
  {
   "cell_type": "markdown",
   "id": "4e92e1f2",
   "metadata": {},
   "source": [
    "What we have ourselves here is a transformation matrix that rotates a vector by $30^o$ and triples its size. Let's roll! 8)"
   ]
  },
  {
   "cell_type": "code",
   "execution_count": 73,
   "id": "419fb683",
   "metadata": {},
   "outputs": [
    {
     "data": {
      "text/plain": [
       "array([[1],\n",
       "       [0]])"
      ]
     },
     "execution_count": 73,
     "metadata": {},
     "output_type": "execute_result"
    }
   ],
   "source": [
    "# For our first case, let's transform the unit vector \n",
    "# along the positive x-direction:\n",
    "v = np.array([[1],[0]])\n",
    "v"
   ]
  },
  {
   "cell_type": "code",
   "execution_count": 74,
   "id": "f57e2f44",
   "metadata": {},
   "outputs": [
    {
     "data": {
      "text/plain": [
       "array([[2.59807621],\n",
       "       [1.5       ]])"
      ]
     },
     "execution_count": 74,
     "metadata": {},
     "output_type": "execute_result"
    }
   ],
   "source": [
    "vp = np.dot(T,v)\n",
    "vp"
   ]
  },
  {
   "cell_type": "code",
   "execution_count": 75,
   "id": "46282a2d",
   "metadata": {},
   "outputs": [
    {
     "data": {
      "text/plain": [
       "3.0"
      ]
     },
     "execution_count": 75,
     "metadata": {},
     "output_type": "execute_result"
    }
   ],
   "source": [
    "# Its size:\n",
    "np.linalg.norm(vp)"
   ]
  },
  {
   "cell_type": "code",
   "execution_count": 76,
   "id": "d2ee2b67",
   "metadata": {
    "scrolled": true
   },
   "outputs": [
    {
     "name": "stdout",
     "output_type": "stream",
     "text": [
      "The angle in radians: [0.52359878]\n",
      "The angle in degrees: [30.]\n"
     ]
    }
   ],
   "source": [
    "# We can calculate its angle wrt x-axis by calculating\n",
    "# the arctan (vp_y/vp_x):\n",
    "angle_rad = np.arctan(vp[1]/vp[0])\n",
    "print(\"The angle in radians: {:}\".format(angle_rad))\n",
    "print(\"The angle in degrees: {:}\".format(np.rad2deg(angle_rad)))"
   ]
  },
  {
   "cell_type": "markdown",
   "id": "dc0d0416",
   "metadata": {},
   "source": [
    "(For a much more \"intelligent\" arctan process, I strongly recommend the `arctan2` function, which saves you from further consideration of the quadrants (i.e., Q1 vs. Q3 and Q2 vs. Q4)"
   ]
  },
  {
   "cell_type": "code",
   "execution_count": 77,
   "id": "f7211dde",
   "metadata": {},
   "outputs": [
    {
     "name": "stdout",
     "output_type": "stream",
     "text": [
      "The angle in radians: [0.52359878]\n",
      "The angle in degrees: [30.]\n"
     ]
    }
   ],
   "source": [
    "angle_rad = np.arctan2(vp[1],vp[0])\n",
    "print(\"The angle in radians: {:}\".format(angle_rad))\n",
    "print(\"The angle in degrees: {:}\".format(np.rad2deg(angle_rad)))"
   ]
  },
  {
   "cell_type": "markdown",
   "id": "66234412",
   "metadata": {},
   "source": [
    "So, the size is indeed tripled and our vector has been rotated by 30 degrees! 8)"
   ]
  },
  {
   "cell_type": "code",
   "execution_count": 78,
   "id": "285797d3",
   "metadata": {},
   "outputs": [
    {
     "data": {
      "text/plain": [
       "array([[0.37672523],\n",
       "       [6.62082483]])"
      ]
     },
     "execution_count": 78,
     "metadata": {},
     "output_type": "execute_result"
    }
   ],
   "source": [
    "## Now let's roll with a random vector:\n",
    "v = (np.random.rand(1,2)*10).T\n",
    "v"
   ]
  },
  {
   "cell_type": "code",
   "execution_count": 79,
   "id": "60d825c9",
   "metadata": {},
   "outputs": [
    {
     "name": "stdout",
     "output_type": "stream",
     "text": [
      "The vector's size is: 6.631534010791827\n"
     ]
    }
   ],
   "source": [
    "# initial size:\n",
    "size_before = np.linalg.norm(v)\n",
    "print(\"The vector's size is: {:}\".format(size_before))"
   ]
  },
  {
   "cell_type": "code",
   "execution_count": 80,
   "id": "43aa61c4",
   "metadata": {},
   "outputs": [
    {
     "name": "stdout",
     "output_type": "stream",
     "text": [
      "The vector's angle (wrt x-axis) is: 86.743 degress\n"
     ]
    }
   ],
   "source": [
    "angle_deg_before = np.rad2deg(np.arctan2(v[1],v[0]))\n",
    "print(\"The vector's angle (wrt x-axis) is: {:.3f} degress\"\n",
    "      .format(angle_deg_before[0]))"
   ]
  },
  {
   "cell_type": "code",
   "execution_count": 81,
   "id": "da206c61",
   "metadata": {},
   "outputs": [
    {
     "data": {
      "text/plain": [
       "array([[-8.95247639],\n",
       "       [17.76649534]])"
      ]
     },
     "execution_count": 81,
     "metadata": {},
     "output_type": "execute_result"
    }
   ],
   "source": [
    "# Transform it!\n",
    "vp = np.dot(T,v)\n",
    "vp"
   ]
  },
  {
   "cell_type": "code",
   "execution_count": 82,
   "id": "dca8050d",
   "metadata": {},
   "outputs": [
    {
     "name": "stdout",
     "output_type": "stream",
     "text": [
      "The vector's size after transformation is: 19.89460203237548\n"
     ]
    }
   ],
   "source": [
    "# Its size after the transformation:\n",
    "size_after = np.linalg.norm(vp)\n",
    "print(\"The vector's size after transformation is: {:}\".format(size_after))"
   ]
  },
  {
   "cell_type": "code",
   "execution_count": 83,
   "id": "056b7d5f",
   "metadata": {},
   "outputs": [
    {
     "name": "stdout",
     "output_type": "stream",
     "text": [
      "The size has changed by a factor of: 3.0\n"
     ]
    }
   ],
   "source": [
    "# The ratios of after/before:\n",
    "print(\"The size has changed by a factor of: {:}\".format(size_after/size_before))"
   ]
  },
  {
   "cell_type": "code",
   "execution_count": 84,
   "id": "0175acb1",
   "metadata": {},
   "outputs": [
    {
     "name": "stdout",
     "output_type": "stream",
     "text": [
      "The vector's angle (wrt x-axis) is: 116.743 degress\n"
     ]
    }
   ],
   "source": [
    "# Its angle after the transformation:\n",
    "angle_deg_after = np.rad2deg(np.arctan2(vp[1],vp[0]))\n",
    "print(\"The vector's angle (wrt x-axis) is: {:.3f} degress\"\n",
    "      .format(angle_deg_after[0]))"
   ]
  },
  {
   "cell_type": "code",
   "execution_count": 85,
   "id": "6dc7d7be",
   "metadata": {},
   "outputs": [
    {
     "name": "stdout",
     "output_type": "stream",
     "text": [
      "The vector has rotated by 30.000 degrees\n"
     ]
    }
   ],
   "source": [
    "# The difference between the final and initial angles:\n",
    "print(\"The vector has rotated by {:.3f} degrees\"\n",
    "      .format(angle_deg_after[0] - angle_deg_before[0]))"
   ]
  },
  {
   "cell_type": "markdown",
   "id": "83b36a25",
   "metadata": {},
   "source": [
    "# A practical application\n",
    "## Definitions\n",
    "Suppose that we are given a vector $\\vec{v}'$ and we are told that this vector has been rotated by an angle of $\\theta$ and its magnitude is scaled by a factor of $n$, and we are asked to calculate the initial vector $\\vec{v}$. So here is what we have:\n",
    "\n",
    "$$\\vec{v}' = \\begin{bmatrix}n & 0 \\\\ 0 & n\\end{bmatrix}\\begin{bmatrix}\\cos\\theta & -\\sin\\theta \\\\ \\sin\\theta & \\cos\\theta\\end{bmatrix}\\vec{v}=\\underbrace{\\begin{bmatrix}n\\cos\\theta & -n\\sin\\theta \\\\ n\\sin\\theta & n\\cos\\theta\\end{bmatrix}}_{T}\\vec{v}$$"
   ]
  },
  {
   "cell_type": "markdown",
   "id": "bf1dc61e",
   "metadata": {},
   "source": [
    "To find $\\vec{v}$, we would first rotate it (back) _clockwise_ by 30 degrees (i.e., $-30^0$) and then would scale it $\\vec{v}'$ by a factor of $\\tfrac{1}{3}$. In mathematical representation this would be:\n",
    "\n",
    "$$\\vec{v} = \\begin{bmatrix}\\tfrac{1}{n} & 0 \\\\ 0 & \\tfrac{1}{n}\\end{bmatrix}\\begin{bmatrix}\\cos{(-\\theta)} & -\\sin{(-\\theta)} \\\\ \\sin{(-\\theta)} & \\cos{(-\\theta)}\\end{bmatrix}\\vec{v}'=\\underbrace{\\begin{bmatrix}\\tfrac{1}{n}\\cos\\theta & \\tfrac{1}{n}\\sin\\theta \\\\ -\\tfrac{1}{n}\\sin\\theta & \\tfrac{1}{n}\\cos\\theta\\end{bmatrix}}_{T'}\\vec{v}'$$"
   ]
  },
  {
   "cell_type": "markdown",
   "id": "bee4fc48",
   "metadata": {},
   "source": [
    "Let's put some numbers in it, for example $n=3$ & $\\theta=30^o$, $\\vec{v}' = 1.7942\\hat{\\imath} + 14.8923\\hat{\\jmath} $:"
   ]
  },
  {
   "cell_type": "code",
   "execution_count": 86,
   "id": "33e56817",
   "metadata": {},
   "outputs": [
    {
     "data": {
      "text/plain": [
       "array([[ 2.59807621, -1.5       ],\n",
       "       [ 1.5       ,  2.59807621]])"
      ]
     },
     "execution_count": 86,
     "metadata": {},
     "output_type": "execute_result"
    }
   ],
   "source": [
    "n = 3\n",
    "angle = np.deg2rad(30)\n",
    "T = np.array([[n*np.cos(angle),-n*np.sin(angle)],[n*np.sin(angle),n*np.cos(angle)]])\n",
    "T"
   ]
  },
  {
   "cell_type": "markdown",
   "id": "5ea80217",
   "metadata": {},
   "source": [
    "Now let's calculate the reversed (_inverted?_) version from the formula:"
   ]
  },
  {
   "cell_type": "code",
   "execution_count": 87,
   "id": "b83a2aae",
   "metadata": {},
   "outputs": [
    {
     "data": {
      "text/plain": [
       "array([[ 0.28867513,  0.16666667],\n",
       "       [-0.16666667,  0.28867513]])"
      ]
     },
     "execution_count": 87,
     "metadata": {},
     "output_type": "execute_result"
    }
   ],
   "source": [
    "n = 1/3\n",
    "angle = np.deg2rad(-30)\n",
    "Tp = np.array([[n*np.cos(angle),-n*np.sin(angle)],[n*np.sin(angle),n*np.cos(angle)]])\n",
    "Tp"
   ]
  },
  {
   "cell_type": "markdown",
   "id": "b1b75d39",
   "metadata": {},
   "source": [
    "Thus, by multiplying $T'$ with $\\vec{v}'$, we get:"
   ]
  },
  {
   "cell_type": "code",
   "execution_count": 89,
   "id": "b2d4ae1e",
   "metadata": {},
   "outputs": [
    {
     "data": {
      "text/plain": [
       "array([[ 1.7942],\n",
       "       [14.8923]])"
      ]
     },
     "execution_count": 89,
     "metadata": {},
     "output_type": "execute_result"
    }
   ],
   "source": [
    "vp = np.array([[1.7942],[14.8923]])\n",
    "vp"
   ]
  },
  {
   "cell_type": "code",
   "execution_count": 90,
   "id": "ad0ed6ed",
   "metadata": {},
   "outputs": [
    {
     "data": {
      "text/plain": [
       "array([[2.99999093],\n",
       "       [4.00000337]])"
      ]
     },
     "execution_count": 90,
     "metadata": {},
     "output_type": "execute_result"
    }
   ],
   "source": [
    "v = np.dot(Tp,vp)\n",
    "v"
   ]
  },
  {
   "cell_type": "markdown",
   "id": "a3e80724",
   "metadata": {},
   "source": [
    "which means that, our original vector was: $\\vec{v} = 3\\hat{\\imath}+4{\\jmath}$\n",
    "\n",
    "**Ready for a surprise?**  \n",
    "Here is the inverse of the transformation matrix, directly calculated by the `linalg.inv()` method:"
   ]
  },
  {
   "cell_type": "code",
   "execution_count": 91,
   "id": "6607f869",
   "metadata": {},
   "outputs": [
    {
     "data": {
      "text/plain": [
       "array([[ 0.28867513,  0.16666667],\n",
       "       [-0.16666667,  0.28867513]])"
      ]
     },
     "execution_count": 91,
     "metadata": {},
     "output_type": "execute_result"
    }
   ],
   "source": [
    "np.linalg.inv(T)"
   ]
  },
  {
   "cell_type": "markdown",
   "id": "4833677f",
   "metadata": {},
   "source": [
    "We saw it somewhere before, right? ;)\n",
    "\n",
    "Thus:\n",
    "\n",
    "$$\\begin{gather*}T\\cdot \\vec{v} = \\vec{v}'\\\\\n",
    "\\underbrace{T^{-1}\\cdot T}_{\\mathbb{1}}\\cdot \\vec{v} =T^{-1}\\cdot \\vec{v}'\\\\\n",
    "\\vec{v} =T^{-1}\\cdot \\vec{v}'\\end{gather*}$$"
   ]
  },
  {
   "cell_type": "code",
   "execution_count": 92,
   "id": "80b2c834",
   "metadata": {},
   "outputs": [
    {
     "data": {
      "text/plain": [
       "array([[2.99999093],\n",
       "       [4.00000337]])"
      ]
     },
     "execution_count": 92,
     "metadata": {},
     "output_type": "execute_result"
    }
   ],
   "source": [
    "np.dot(np.linalg.inv(T),vp)"
   ]
  },
  {
   "cell_type": "markdown",
   "id": "63cfc2d9",
   "metadata": {},
   "source": [
    "### Sidenote: Calculating $n$ & $\\theta$ from the combined transformation matrix*\n",
    "_(*As long as we're keeping the 'new coordinates' perpendicular)_"
   ]
  },
  {
   "cell_type": "markdown",
   "id": "acf52b55",
   "metadata": {},
   "source": [
    "We could have been directly given the transformation matrix T:"
   ]
  },
  {
   "cell_type": "code",
   "execution_count": 95,
   "id": "2d0cd8bd",
   "metadata": {},
   "outputs": [
    {
     "data": {
      "text/plain": [
       "array([[ 2.59807621, -1.5       ],\n",
       "       [ 1.5       ,  2.59807621]])"
      ]
     },
     "execution_count": 95,
     "metadata": {},
     "output_type": "execute_result"
    }
   ],
   "source": [
    "T = np.array([[ 2.59807621, -1.5],[ 1.5       ,  2.59807621]])\n",
    "T"
   ]
  },
  {
   "cell_type": "code",
   "execution_count": 96,
   "id": "4595547c",
   "metadata": {},
   "outputs": [
    {
     "name": "stdout",
     "output_type": "stream",
     "text": [
      "The scaling factor is: 3.000\n"
     ]
    }
   ],
   "source": [
    "n = np.sqrt(np.linalg.det(T))\n",
    "print(\"The scaling factor is: {:.3f}\".format(n))"
   ]
  },
  {
   "cell_type": "code",
   "execution_count": 97,
   "id": "af8c55cb",
   "metadata": {},
   "outputs": [
    {
     "data": {
      "text/plain": [
       "array([[ 0.8660254, -0.5      ],\n",
       "       [ 0.5      ,  0.8660254]])"
      ]
     },
     "execution_count": 97,
     "metadata": {},
     "output_type": "execute_result"
    }
   ],
   "source": [
    "R = T/n\n",
    "R"
   ]
  },
  {
   "cell_type": "code",
   "execution_count": 98,
   "id": "281b3053",
   "metadata": {},
   "outputs": [
    {
     "name": "stdout",
     "output_type": "stream",
     "text": [
      "The rotation angle is: 30.000 degrees\n"
     ]
    }
   ],
   "source": [
    "angle = np.rad2deg(np.arctan2(R[1,0],R[0,0]))\n",
    "print(\"The rotation angle is: {:.3f} degrees\".format(angle))"
   ]
  },
  {
   "cell_type": "markdown",
   "id": "e5f9e296",
   "metadata": {},
   "source": [
    "## Application\n",
    "**Example** \n",
    "$\\vec{v}=\\begin{pmatrix}v_x\\\\v_y\\end{pmatrix}$ vector is rotated and scaled by a transformation matrix defined as: \n",
    "\n",
    "$$T=\\begin{bmatrix}2.59807621&-1.5\\\\1.5 &2.59807621\\end{bmatrix}$$\n",
    "\n",
    "\n",
    "and if the resulting vector $\\vec{v}'$ is given as $\\vec{v}' = 1.7942\\hat{\\imath} + 14.8923\\hat{\\jmath} $, calculate the initial vector $\\vec{v}$.\n",
    "\n",
    "So we can write it as:\n",
    "$$T\\cdot \\vec{v}=\\vec{v}'$$\n",
    "$$\\begin{bmatrix}2.59807621&-1.5\\\\1.5 &2.59807621\\end{bmatrix}\\begin{pmatrix}v_x\\\\v_y\\end{pmatrix}=\\begin{pmatrix}1.7942\\\\14.8923\\end{pmatrix}$$\n",
    "\n",
    "But we have already solved this problem and found the answer to be:\n",
    "\n",
    "$$\\vec{v}=\\begin{pmatrix}v_x\\\\v_y\\end{pmatrix}=\\begin{pmatrix}3\\\\4\\end{pmatrix} = 3\\hat{\\imath} + 4\\hat{\\jmath}$$\n",
    "\n",
    "How very nice! 8)\n",
    "Now consider this set of two equations with two unknowns:\n",
    "$$\\begin{gather*}4x - y = 10\\\\3x + 2y=13\\end{gather*}$$\n",
    "\n",
    "Can we write it as a multiplication of a matrix by a vector like the following?\n",
    "\n",
    "$$\\begin{bmatrix}4&-1\\\\3&2\\end{bmatrix}\\begin{bmatrix}x\\\\y\\end{bmatrix} = \\begin{bmatrix}10\\\\13\\end{bmatrix}$$\n",
    "\n",
    "(please verify that, we indeed can...)\n",
    "\n",
    "So, even though it is a set of 2 equations with two unknowns, we can interpret it as if it is a vector transformation! _(albeit, a transformation, that doesn't keep the angle between the new axes perpendicular)_\n",
    "\n",
    "Sooooo:"
   ]
  },
  {
   "cell_type": "code",
   "execution_count": 100,
   "id": "5fe102f4",
   "metadata": {},
   "outputs": [
    {
     "data": {
      "text/plain": [
       "array([[3.],\n",
       "       [2.]])"
      ]
     },
     "execution_count": 100,
     "metadata": {},
     "output_type": "execute_result"
    }
   ],
   "source": [
    "vp = np.array([[10],[13]])\n",
    "T = np.array([[4,-1],[3,2]])\n",
    "np.dot(np.linalg.inv(T),vp)"
   ]
  },
  {
   "cell_type": "markdown",
   "id": "8f96a245",
   "metadata": {},
   "source": [
    "We have just solved our set of equations!\n",
    "\n",
    "(As this solving of linear operations are very common in scientific calculations, there is a direct function called `linalg.solve()` defined for it, i.e.,"
   ]
  },
  {
   "cell_type": "code",
   "execution_count": 101,
   "id": "06d58a29",
   "metadata": {},
   "outputs": [
    {
     "data": {
      "text/plain": [
       "array([[3.],\n",
       "       [2.]])"
      ]
     },
     "execution_count": 101,
     "metadata": {},
     "output_type": "execute_result"
    }
   ],
   "source": [
    "np.linalg.solve(T,vp)"
   ]
  },
  {
   "cell_type": "code",
   "execution_count": null,
   "id": "8ecaf25b",
   "metadata": {},
   "outputs": [],
   "source": []
  }
 ],
 "metadata": {
  "kernelspec": {
   "display_name": "Python 3",
   "language": "python",
   "name": "python3"
  },
  "language_info": {
   "codemirror_mode": {
    "name": "ipython",
    "version": 3
   },
   "file_extension": ".py",
   "mimetype": "text/x-python",
   "name": "python",
   "nbconvert_exporter": "python",
   "pygments_lexer": "ipython3",
   "version": "3.9.4"
  },
  "toc": {
   "base_numbering": 1,
   "nav_menu": {},
   "number_sections": false,
   "sideBar": false,
   "skip_h1_title": false,
   "title_cell": "Table of Contents",
   "title_sidebar": "Contents",
   "toc_cell": true,
   "toc_position": {},
   "toc_section_display": true,
   "toc_window_display": false
  },
  "varInspector": {
   "cols": {
    "lenName": 16,
    "lenType": 16,
    "lenVar": 40
   },
   "kernels_config": {
    "python": {
     "delete_cmd_postfix": "",
     "delete_cmd_prefix": "del ",
     "library": "var_list.py",
     "varRefreshCmd": "print(var_dic_list())"
    },
    "r": {
     "delete_cmd_postfix": ") ",
     "delete_cmd_prefix": "rm(",
     "library": "var_list.r",
     "varRefreshCmd": "cat(var_dic_list()) "
    }
   },
   "types_to_exclude": [
    "module",
    "function",
    "builtin_function_or_method",
    "instance",
    "_Feature"
   ],
   "window_display": false
  }
 },
 "nbformat": 4,
 "nbformat_minor": 5
}
